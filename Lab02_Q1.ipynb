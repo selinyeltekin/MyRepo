{
  "nbformat": 4,
  "nbformat_minor": 0,
  "metadata": {
    "colab": {
      "name": "Lab02-Q1-16.03.2020",
      "provenance": [],
      "authorship_tag": "ABX9TyOutXYX0SwPOeznxc/TDcBw",
      "include_colab_link": true
    },
    "kernelspec": {
      "name": "python3",
      "display_name": "Python 3"
    }
  },
  "cells": [
    {
      "cell_type": "markdown",
      "metadata": {
        "id": "view-in-github",
        "colab_type": "text"
      },
      "source": [
        "<a href=\"https://colab.research.google.com/github/selinyeltekin/MyRepo/blob/master/Lab02_Q1.ipynb\" target=\"_parent\"><img src=\"https://colab.research.google.com/assets/colab-badge.svg\" alt=\"Open In Colab\"/></a>"
      ]
    },
    {
      "cell_type": "code",
      "metadata": {
        "id": "AyWzZEaEkxgj",
        "colab_type": "code",
        "colab": {}
      },
      "source": [
        "rd(x)=(-1)**k(0.d1d2)2**(e1e2-1)\n",
        "rd(x)= s     *m      *2(e-1)\n",
        "\n",
        "#My version\n",
        "We know that e belongs to [0;(2**2)-1] that is to say [0;3]\n",
        "We also know that di belongs to [0;1]\n",
        "\n",
        "All the numbers are \n",
        "-(0.00)2**-1    -(0.00)2**0    -(0.00)2**1    -(0.00)2**2\n",
        "-(0.01)2**-1    -(0.01)2**0    -(0.01)2**1    -(0.01)2**2\n",
        "-(0.10)2**-1    -(0.10)2**0    -(0.10)2**1    -(0.10)2**2\n",
        "-(0.11)2**-1    -(0.11)2**0    -(0.11)2**1    -(0.11)2**2\n",
        "And exaclty the ssame with the sign +\n",
        "\n",
        "The smallest number is -(0.1)2**-1\n",
        "The largest number is (0.11)2**2\n",
        "\n",
        "#Professor version\n",
        "s={-1;1}\n",
        "e={0;1;2;3}\n",
        "e-1={-1,0,1,2}\n",
        "2^⁽e-1)={1/2,1,2,4}\n",
        "m= sum_j=1,2 (bit_j 2^(-j) ) = bit_1*2^(-1) + bit_2*2^(-2) = bit_1 * 1/2 + bit_2*1/4\n",
        "m = {0, 1/4, 1/2, 3/4}\n",
        "m = {0.00, 0.01, 0.10, 0.11} \n",
        "\n",
        "max = 1*3/4*4 =3\n",
        "smallest number greater than 0 : 1*1/4*1/2=1/8\n",
        "\n",
        "+0\n",
        "-0\n",
        "\n",
        "min = -3"
      ],
      "execution_count": 0,
      "outputs": []
    }
  ]
}