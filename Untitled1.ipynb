{
  "nbformat": 4,
  "nbformat_minor": 0,
  "metadata": {
    "colab": {
      "name": "Untitled1.ipynb",
      "provenance": [],
      "authorship_tag": "ABX9TyNvQD8d2mkWplY2GRvQimL5",
      "include_colab_link": true
    },
    "kernelspec": {
      "name": "python3",
      "display_name": "Python 3"
    }
  },
  "cells": [
    {
      "cell_type": "markdown",
      "metadata": {
        "id": "view-in-github",
        "colab_type": "text"
      },
      "source": [
        "<a href=\"https://colab.research.google.com/github/selinyeltekin/MyRepo/blob/master/Untitled1.ipynb\" target=\"_parent\"><img src=\"https://colab.research.google.com/assets/colab-badge.svg\" alt=\"Open In Colab\"/></a>"
      ]
    },
    {
      "cell_type": "code",
      "metadata": {
        "id": "XjuRQIOH9nwb",
        "colab_type": "code",
        "colab": {}
      },
      "source": [
        "def gen_fib():\n",
        "  count = int(input(\"Enter a number to generate Fibonacci number: \"))\n",
        "  i = 1\n",
        "  if count ==0:\n",
        "    fib = []\n",
        "  elif count ==1:\n",
        "    fib = [1]\n",
        "  elif count == 2:\n",
        "    fib = [1,1]\n",
        "  elif count > 2:\n",
        "    fib = [1,1]\n",
        "    while i < (count-1):\n",
        "      fib.append(fib[i] + fib [i-1])\n",
        "      i += 1\n",
        "    return fib "
      ],
      "execution_count": 0,
      "outputs": []
    }
  ]
}