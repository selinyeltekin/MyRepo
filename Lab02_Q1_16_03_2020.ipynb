{
  "nbformat": 4,
  "nbformat_minor": 0,
  "metadata": {
    "colab": {
      "name": "Lab02-Q1-16.03.2020",
      "provenance": [],
      "authorship_tag": "ABX9TyMw7Ub1MXb0PQHSMcVqCn+z",
      "include_colab_link": true
    },
    "kernelspec": {
      "name": "python3",
      "display_name": "Python 3"
    }
  },
  "cells": [
    {
      "cell_type": "markdown",
      "metadata": {
        "id": "view-in-github",
        "colab_type": "text"
      },
      "source": [
        "<a href=\"https://colab.research.google.com/github/selinyeltekin/MyRepo/blob/master/Lab02_Q1_16_03_2020.ipynb\" target=\"_parent\"><img src=\"https://colab.research.google.com/assets/colab-badge.svg\" alt=\"Open In Colab\"/></a>"
      ]
    },
    {
      "cell_type": "code",
      "metadata": {
        "id": "jXzzRCrlL89A",
        "colab_type": "code",
        "outputId": "bc3f98f8-c080-4218-948c-fa4d75bd3e03",
        "colab": {
          "base_uri": "https://localhost:8080/",
          "height": 132
        }
      },
      "source": [
        "rd(x)=(-1)**k(0.d1d2)2**(e1e2-1)\n",
        "\n",
        "#representation_1\n",
        "e belongs to [0;(2**2)-1] so we can say it equals to [0;3]\n",
        "We know that di belongs to [0;1]\n",
        "\n",
        "All the numbers are \n",
        "e=0                 (+)\n",
        "-(0.00)2**-1    (0.00)2**-1\n",
        "-(0.01)2**-1    (0.01)2**-1\n",
        "-(0.10)2**-1    (0.10)2**-1\n",
        "-(0.11)2**-1    (0.11)2**-1\n",
        "\n",
        "e=1\n",
        "-(0.00)2**0     (0.00)2**0\n",
        "-(0.01)2**0     (0.01)2**0\n",
        "-(0.10)2**0     (0.10)2**0\n",
        "-(0.11)2**0     (0.11)2**0\n",
        "\n",
        "e=2\n",
        "-(0.00)2**1     (0.00)2**1\n",
        "-(0.01)2**1     (0.01)2**1\n",
        "-(0.10)2**1     (0.10)2**1\n",
        "-(0.11)2**1     (0.11)2**1\n",
        "\n",
        "e=3\n",
        "-(0.00)2**2     (0.00)2**2\n",
        "-(0.01)2**2     (0.01)2**2\n",
        "-(0.10)2**2     (0.10)2**2\n",
        "-(0.11)2**2     (0.11)2**2\n",
        "\n",
        "\n",
        "The smallest number is -(0.1)2**-1 = -0.05\n",
        "The largest number is (0.11)2**2   = 0.44\n",
        "\n",
        "\n",
        "\n"
      ],
      "execution_count": 0,
      "outputs": [
        {
          "output_type": "error",
          "ename": "SyntaxError",
          "evalue": "ignored",
          "traceback": [
            "\u001b[0;36m  File \u001b[0;32m\"<ipython-input-1-6ceba5736fe0>\"\u001b[0;36m, line \u001b[0;32m1\u001b[0m\n\u001b[0;31m    rd(x)=(-1)**k(0.d1d2)2**(e1e2-1)\u001b[0m\n\u001b[0m                       ^\u001b[0m\n\u001b[0;31mSyntaxError\u001b[0m\u001b[0;31m:\u001b[0m invalid syntax\n"
          ]
        }
      ]
    }
  ]
}