{
  "nbformat": 4,
  "nbformat_minor": 0,
  "metadata": {
    "colab": {
      "name": "Lab04_Task1",
      "provenance": [],
      "authorship_tag": "ABX9TyOR+RHAoPkM1bDCbSJL7rxL",
      "include_colab_link": true
    },
    "kernelspec": {
      "name": "python3",
      "display_name": "Python 3"
    }
  },
  "cells": [
    {
      "cell_type": "markdown",
      "metadata": {
        "id": "view-in-github",
        "colab_type": "text"
      },
      "source": [
        "<a href=\"https://colab.research.google.com/github/selinyeltekin/MyRepo/blob/master/Lab04_Task1.ipynb\" target=\"_parent\"><img src=\"https://colab.research.google.com/assets/colab-badge.svg\" alt=\"Open In Colab\"/></a>"
      ]
    },
    {
      "cell_type": "code",
      "metadata": {
        "id": "KRRHTDtAphez",
        "colab_type": "code",
        "colab": {}
      },
      "source": [
        "#Lecture 03 fixed point iteration algorithm\n",
        "#Fixed point iteration Method\n",
        "#Importing math to use sqrt function\n",
        "import math\n",
        "\n",
        "S=8 #we want to approximate sqrt(8)\n",
        "\n",
        "def f(x) :\n",
        "  return x*x-S\n",
        "\n",
        "def g(x):\n",
        "  return (1/2)*(x+S/x)\n",
        "\n",
        "#Implementing fixed point method\n",
        "\n",
        "def fixedPointIteration(x0, e,ex, N):\n",
        "  print('\\n\\n*** FIXED POINT ITERATION ***')\n",
        "  step=1\n",
        "  condition=True\n",
        "  while condition:\n",
        "    x1=g(x0)\n",
        "    xhelp=x1-x0\n",
        "    print('Iteration-%d, x1 = %0.6f and f(x1)= %0.6f' %(step, x1, f(x1)))\n",
        "    x0=x1\n",
        "\n",
        "    step=step+1\n",
        "\n",
        "    condition1 = abs(f(x1))>e\n",
        "    condition2 = step<N\n",
        "    condition3 = abs(xhelp)>ex\n",
        "    condition = condition1 and condition2 and condition3\n",
        "\n",
        "\n",
        "#Input section \n",
        "x0 = input('Enter Guess:')\n",
        "e= input('Tolerable error:')\n",
        "N= input('Maximum Step:')\n",
        "ex= input('Second tolerable error:')\n",
        "\n",
        "#Converting x0 and e to float\n",
        "x0=float(x0)\n",
        "e=float(e)\n",
        "ex=float(ex)\n",
        "\n",
        "#Converting N to integer\n",
        "N= int(N)\n",
        "\n",
        "#Starting fixed point iteration\n",
        "fixedPointIteration(x0,e, ex,N)"
      ],
      "execution_count": 0,
      "outputs": []
    }
  ]
}