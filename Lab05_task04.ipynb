{
  "nbformat": 4,
  "nbformat_minor": 0,
  "metadata": {
    "colab": {
      "name": "Lab05_task04",
      "provenance": [],
      "authorship_tag": "ABX9TyN0INTwW7KZON8tzgS5B4Vj",
      "include_colab_link": true
    },
    "kernelspec": {
      "name": "python3",
      "display_name": "Python 3"
    }
  },
  "cells": [
    {
      "cell_type": "markdown",
      "metadata": {
        "id": "view-in-github",
        "colab_type": "text"
      },
      "source": [
        "<a href=\"https://colab.research.google.com/github/selinyeltekin/MyRepo/blob/master/Lab05_task04.ipynb\" target=\"_parent\"><img src=\"https://colab.research.google.com/assets/colab-badge.svg\" alt=\"Open In Colab\"/></a>"
      ]
    },
    {
      "cell_type": "code",
      "metadata": {
        "id": "sRUbLmI1_6LZ",
        "colab_type": "code",
        "outputId": "1ca78125-ac09-4186-8c4f-6d2b633d26e3",
        "colab": {
          "base_uri": "https://localhost:8080/",
          "height": 266
        }
      },
      "source": [
        "#Aitken’s acceleration for a 1-dimensional case\n",
        "\n",
        "#example from lecture 4\n",
        "\n",
        "def f(x): \n",
        "  x=x\n",
        "  return 1/x - 0.5\n",
        "\n",
        "def g(x):\n",
        "  x=x\n",
        "  return x + 1/16*f(x)\n",
        "\n",
        "def aitken(function, x_init):\n",
        "  max_iter = 50\n",
        "  epsilon = 1e-8\n",
        "\n",
        "  step=0\n",
        "\n",
        "  compt = 0\n",
        "  flag = 1\n",
        "  condition=True\n",
        "\n",
        "  sol = [x_init]\n",
        "\n",
        "  while condition:\n",
        "    if compt==2 : \n",
        "      x1=sol[-3]-((sol[-2]-sol[-3])**2)/(sol[-1]-2*sol[-2]+sol[-3])\n",
        "      xhelp=x1-x_init\n",
        "      sol.append(x1)\n",
        "      x_init=x1\n",
        "      compt=0\n",
        "    else :\n",
        "      x1 = function(x_init)\n",
        "      xhelp=x1-x_init\n",
        "      sol.append(x1)\n",
        "      x_init=x1\n",
        "      compt = compt+1\n",
        "    step=step+1\n",
        "    print('Iteration-%d, x1 = %0.6f and g(x1) = %0.6f' % (step, x1, function(x1)))\n",
        "    if step > max_iter:\n",
        "      flag = 0\n",
        "      break\n",
        "    \n",
        "    condition1 = abs(f(x1))>epsilon\n",
        "    condition2 = step<max_iter\n",
        "    condition3 = abs(xhelp)>epsilon\n",
        "    condition = condition1 and condition2 and condition3\n",
        "\n",
        "  if flag==1:\n",
        "    print('\\nRequired root is: %0.8f' % x1)\n",
        "  else:\n",
        "    print('\\nNot Convergent.')\n",
        "    \n",
        "aitken(g, 1.5)"
      ],
      "execution_count": 0,
      "outputs": [
        {
          "output_type": "stream",
          "text": [
            "Iteration-1, x1 = 1.510417 and g(x1) = 1.520546\n",
            "Iteration-2, x1 = 1.520546 and g(x1) = 1.530400\n",
            "Iteration-3, x1 = 1.877604 and g(x1) = 1.879641\n",
            "Iteration-4, x1 = 1.879641 and g(x1) = 1.881642\n",
            "Iteration-5, x1 = 1.881642 and g(x1) = 1.883608\n",
            "Iteration-6, x1 = 1.992634 and g(x1) = 1.992750\n",
            "Iteration-7, x1 = 1.992750 and g(x1) = 1.992864\n",
            "Iteration-8, x1 = 1.992864 and g(x1) = 1.992975\n",
            "Iteration-9, x1 = 1.999973 and g(x1) = 1.999974\n",
            "Iteration-10, x1 = 1.999974 and g(x1) = 1.999974\n",
            "Iteration-11, x1 = 1.999974 and g(x1) = 1.999975\n",
            "Iteration-12, x1 = 2.000000 and g(x1) = 2.000000\n",
            "\n",
            "Required root is: 2.00000000\n"
          ],
          "name": "stdout"
        }
      ]
    }
  ]
}