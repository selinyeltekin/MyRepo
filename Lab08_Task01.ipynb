{
  "nbformat": 4,
  "nbformat_minor": 0,
  "metadata": {
    "colab": {
      "name": "Untitled16.ipynb",
      "provenance": [],
      "authorship_tag": "ABX9TyOUccmoe0IdhYI0z0v6Za1M",
      "include_colab_link": true
    },
    "kernelspec": {
      "name": "python3",
      "display_name": "Python 3"
    }
  },
  "cells": [
    {
      "cell_type": "markdown",
      "metadata": {
        "id": "view-in-github",
        "colab_type": "text"
      },
      "source": [
        "<a href=\"https://colab.research.google.com/github/selinyeltekin/MyRepo/blob/master/Lab08_Task01.ipynb\" target=\"_parent\"><img src=\"https://colab.research.google.com/assets/colab-badge.svg\" alt=\"Open In Colab\"/></a>"
      ]
    },
    {
      "cell_type": "code",
      "metadata": {
        "id": "O2T6ha2NzOs7",
        "colab_type": "code",
        "colab": {}
      },
      "source": [
        ""
      ],
      "execution_count": 0,
      "outputs": []
    },
    {
      "cell_type": "markdown",
      "metadata": {
        "id": "DybCLNE_zRif",
        "colab_type": "text"
      },
      "source": [
        "We are going to find an integral equation by manually which is x**2 from 1=a to 4=b by using\n",
        "a) rectangles - function value from the left side,\n",
        "b) rectangles - function value from the right side,\n",
        "c) rectangles - function value from the middle of the interval\n",
        "d) trapezoidal approximation,\n",
        "\n",
        "a) The formula is :   I4=sum((ni-ni-1)*f(ni-1) for i=1:n\n",
        "So, I4= (1-0)*f(0) + (2-1)*f(1) + (3-2)*f(2)\n",
        "      = 14\n",
        "\n",
        "b) The formula is :  I4=sum((ni-ni-1)*f(ni) for i=1:n\n",
        "So, I4= (1-0)*f(1) + (2-1)*f(2) + (3-2)*f(3)\n",
        "      = 29\n",
        "\n",
        "c) Tthe formula is :  I4=sum((ni-ni-1)*f((ni-1+ni)/2) for i=1:n\n",
        "So, I4= (2-1)*f(3/2) + (3-2)*f(5/2) + (4-3)*f(7/2)\n",
        "      = 20.75\n",
        "\n",
        "\n",
        "d) The formula is :  I4=sum((ni-ni-1)*(f(ni)+f(ni-1)/2) for i=1:n\n",
        "So, I4= (1-0)/2*(f(1)+f(0)) + (2-1)/2*(f(1)+f(2)) + (3-2)/2*(f(2)+f(3))\n",
        "      = 1/2 * (1+4+9+16+4+9)\n",
        "      = 21.5\n",
        " \n",
        "The pertentage of error for each : \n",
        "a) abs((14-21)/21) * 100 = 33.33 %\n",
        "b) abs((29-21)/21) * 100 = 38.10 %\n",
        "c) abs((20.75-21)/21) * 100 = 1.19 %\n",
        "d) abs((21.5-21)/21) * 100 = 2.38 %\n",
        "      \n",
        "The method \"the middle of the interval\" is the best one, the approximation is better with this method."
      ]
    }
  ]
}