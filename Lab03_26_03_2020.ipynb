{
  "nbformat": 4,
  "nbformat_minor": 0,
  "metadata": {
    "colab": {
      "name": "Lab03_26.03.2020.ipynb",
      "provenance": [],
      "authorship_tag": "ABX9TyNII1+7dC8eveO2nSsmwBft",
      "include_colab_link": true
    },
    "kernelspec": {
      "name": "python3",
      "display_name": "Python 3"
    }
  },
  "cells": [
    {
      "cell_type": "markdown",
      "metadata": {
        "id": "view-in-github",
        "colab_type": "text"
      },
      "source": [
        "<a href=\"https://colab.research.google.com/github/selinyeltekin/MyRepo/blob/master/Lab03_26_03_2020.ipynb\" target=\"_parent\"><img src=\"https://colab.research.google.com/assets/colab-badge.svg\" alt=\"Open In Colab\"/></a>"
      ]
    },
    {
      "cell_type": "code",
      "metadata": {
        "id": "r5P1jtDDw3Tf",
        "colab_type": "code",
        "colab": {
          "base_uri": "https://localhost:8080/",
          "height": 435
        },
        "outputId": "8dbce8bd-8703-428a-da78-3909de303a88"
      },
      "source": [
        "# Fixed Point Iteration Method\n",
        "import math\n",
        "import random\n",
        "\n",
        "#Defining S randomly\n",
        "S = random.randint(0,100)   #Approximate sqrt(S)\n",
        "\n",
        "#Defining function\n",
        "def f(x) :\n",
        "  return x^2-S\n",
        "\n",
        "def g(x) :\n",
        "  return (1/2)*(x+S/x)\n",
        "\n",
        "#Implementing fixed point method\n",
        "def fixedPointIteration(x0, e, N):\n",
        "  print('\\n\\n*** FIXED POINT ITERATION ***')\n",
        "  steo = 1\n",
        "  flag = 1\n",
        "  condition = True\n",
        "  while condition:\n",
        "    x1= g(x0)\n",
        "    print('Iteration-%d, x1 = %0.6f and f(x1) = %0.6f' % (step, x1, f(x1)))\n",
        "    x0=x1\n",
        "    step = step + 1\n",
        "    if step > N:\n",
        "      flag=0\n",
        "      break\n",
        "    condition = abs (f(x1)) > e\n",
        "  if flag ==1:\n",
        "    print('\\nRequired root is: %0.8f'  % x1)\n",
        "  else :\n",
        "    print ('\\nNot Convergent.')\n",
        "\n",
        "# Input Section\n",
        "x0 = input('Enter Guess: ')\n",
        "e = input('Tolerable Error: ')\n",
        "N = input('Maximum Step: ')\n",
        "\n",
        "# Converting x0 and e to float\n",
        "x0 = float(x0)\n",
        "e = float(e)\n",
        "\n",
        "# Converting N to integer\n",
        "N = int(N)\n",
        "\n",
        "#Note: You can combine above three section like this\n",
        "# x0 = float(input('Enter Guess: '))\n",
        "# e = float(input('Tolerable Error: '))\n",
        "# N = int(input('Maximum Step: '))\n",
        "# Starting fixed point iteration\n",
        "\n",
        "fixedPointIteration(x0,e,N)"
      ],
      "execution_count": 2,
      "outputs": [
        {
          "output_type": "stream",
          "text": [
            "Enter Guess: 3\n",
            "Tolerable Error: 0.000001\n",
            "Maximum Step: 5\n",
            "\n",
            "\n",
            "*** FIXED POINT ITERATION ***\n"
          ],
          "name": "stdout"
        },
        {
          "output_type": "error",
          "ename": "UnboundLocalError",
          "evalue": "ignored",
          "traceback": [
            "\u001b[0;31m---------------------------------------------------------------------------\u001b[0m",
            "\u001b[0;31mUnboundLocalError\u001b[0m                         Traceback (most recent call last)",
            "\u001b[0;32m<ipython-input-2-14fbeb6fdd46>\u001b[0m in \u001b[0;36m<module>\u001b[0;34m()\u001b[0m\n\u001b[1;32m     50\u001b[0m \u001b[0;31m# Starting fixed point iteration\u001b[0m\u001b[0;34m\u001b[0m\u001b[0;34m\u001b[0m\u001b[0;34m\u001b[0m\u001b[0m\n\u001b[1;32m     51\u001b[0m \u001b[0;34m\u001b[0m\u001b[0m\n\u001b[0;32m---> 52\u001b[0;31m \u001b[0mfixedPointIteration\u001b[0m\u001b[0;34m(\u001b[0m\u001b[0mx0\u001b[0m\u001b[0;34m,\u001b[0m\u001b[0me\u001b[0m\u001b[0;34m,\u001b[0m\u001b[0mN\u001b[0m\u001b[0;34m)\u001b[0m\u001b[0;34m\u001b[0m\u001b[0;34m\u001b[0m\u001b[0m\n\u001b[0m",
            "\u001b[0;32m<ipython-input-2-14fbeb6fdd46>\u001b[0m in \u001b[0;36mfixedPointIteration\u001b[0;34m(x0, e, N)\u001b[0m\n\u001b[1;32m     20\u001b[0m   \u001b[0;32mwhile\u001b[0m \u001b[0mcondition\u001b[0m\u001b[0;34m:\u001b[0m\u001b[0;34m\u001b[0m\u001b[0;34m\u001b[0m\u001b[0m\n\u001b[1;32m     21\u001b[0m     \u001b[0mx1\u001b[0m\u001b[0;34m=\u001b[0m \u001b[0mg\u001b[0m\u001b[0;34m(\u001b[0m\u001b[0mx0\u001b[0m\u001b[0;34m)\u001b[0m\u001b[0;34m\u001b[0m\u001b[0;34m\u001b[0m\u001b[0m\n\u001b[0;32m---> 22\u001b[0;31m     \u001b[0mprint\u001b[0m\u001b[0;34m(\u001b[0m\u001b[0;34m'Iteration-%d, x1 = %0.6f and f(x1) = %0.6f'\u001b[0m \u001b[0;34m%\u001b[0m \u001b[0;34m(\u001b[0m\u001b[0mstep\u001b[0m\u001b[0;34m,\u001b[0m \u001b[0mx1\u001b[0m\u001b[0;34m,\u001b[0m \u001b[0mf\u001b[0m\u001b[0;34m(\u001b[0m\u001b[0mx1\u001b[0m\u001b[0;34m)\u001b[0m\u001b[0;34m)\u001b[0m\u001b[0;34m)\u001b[0m\u001b[0;34m\u001b[0m\u001b[0;34m\u001b[0m\u001b[0m\n\u001b[0m\u001b[1;32m     23\u001b[0m     \u001b[0mx0\u001b[0m\u001b[0;34m=\u001b[0m\u001b[0mx1\u001b[0m\u001b[0;34m\u001b[0m\u001b[0;34m\u001b[0m\u001b[0m\n\u001b[1;32m     24\u001b[0m     \u001b[0mstep\u001b[0m \u001b[0;34m=\u001b[0m \u001b[0mstep\u001b[0m \u001b[0;34m+\u001b[0m \u001b[0;36m1\u001b[0m\u001b[0;34m\u001b[0m\u001b[0;34m\u001b[0m\u001b[0m\n",
            "\u001b[0;31mUnboundLocalError\u001b[0m: local variable 'step' referenced before assignment"
          ]
        }
      ]
    }
  ]
}