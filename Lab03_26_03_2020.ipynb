{
  "nbformat": 4,
  "nbformat_minor": 0,
  "metadata": {
    "colab": {
      "name": "Lab03_26.03.2020.ipynb",
      "provenance": [],
      "authorship_tag": "ABX9TyMfhf64jJy5b1xVAtLzVEwc",
      "include_colab_link": true
    },
    "kernelspec": {
      "name": "python3",
      "display_name": "Python 3"
    }
  },
  "cells": [
    {
      "cell_type": "markdown",
      "metadata": {
        "id": "view-in-github",
        "colab_type": "text"
      },
      "source": [
        "<a href=\"https://colab.research.google.com/github/selinyeltekin/MyRepo/blob/master/Lab03_26_03_2020.ipynb\" target=\"_parent\"><img src=\"https://colab.research.google.com/assets/colab-badge.svg\" alt=\"Open In Colab\"/></a>"
      ]
    },
    {
      "cell_type": "code",
      "metadata": {
        "id": "r5P1jtDDw3Tf",
        "colab_type": "code",
        "outputId": "476fc709-7995-42cf-d8b4-890146ae5d2b",
        "colab": {
          "base_uri": "https://localhost:8080/",
          "height": 230
        }
      },
      "source": [
        "\n",
        "#Fixed point iteration Method\n",
        "\n",
        "import math\n",
        "\n",
        "\n",
        "S=8 #we want to approximate sqrt(8)\n",
        "\n",
        "\n",
        "def f(x) :\n",
        "  return x*x-S\n",
        "\n",
        "def g(x):\n",
        "  return (1/2)*(x+S/x)\n",
        "\n",
        "#Implementing fixed point method\n",
        "\n",
        "def fixedPointIteration(x0, e, N):\n",
        "  print('\\n\\n*** FIXED POINT ITERATION ***')\n",
        "  step=1\n",
        "  flag=1\n",
        "  condition=True\n",
        "  while condition:\n",
        "    x1=g(x0)\n",
        "    print('Iteration-%d, x1 = %0.6f and f(x1)= %0.6f' %(step, x1, f(x1)))\n",
        "    x0=x1\n",
        "\n",
        "    step=step+1\n",
        "\n",
        "    if step>N:\n",
        "      flag=0\n",
        "      break\n",
        "    condition = abs(f(x1))>e\n",
        "\n",
        "  if flag==1:\n",
        "    print('\\nRequired root is : %0.8f' %x1)\n",
        "  else :\n",
        "    print('\\nNot convergent')\n",
        "\n",
        "#Input section \n",
        "x0 = input('Enter Guess:')\n",
        "e= input('Tolerable error:')\n",
        "N= input('Maximum Step:')\n",
        "  \n",
        "#Converting x0 and e to float\n",
        "x0=float(x0)\n",
        "e=float(e)\n",
        "\n",
        "#Converting N to integer\n",
        "N= int(N)\n",
        "\n",
        "#Starting fixed point iteration\n",
        "fixedPointIteration(x0,e,N)"
      ],
      "execution_count": 4,
      "outputs": [
        {
          "output_type": "stream",
          "text": [
            "Enter Guess:5\n",
            "Tolerable error:0.0001\n",
            "Maximum Step:15\n",
            "\n",
            "\n",
            "*** FIXED POINT ITERATION ***\n",
            "Iteration-1, x1 = 3.300000 and f(x1)= 2.890000\n",
            "Iteration-2, x1 = 2.862121 and f(x1)= 0.191738\n",
            "Iteration-3, x1 = 2.828625 and f(x1)= 0.001122\n",
            "Iteration-4, x1 = 2.828427 and f(x1)= 0.000000\n",
            "\n",
            "Required root is : 2.82842713\n"
          ],
          "name": "stdout"
        }
      ]
    }
  ]
}