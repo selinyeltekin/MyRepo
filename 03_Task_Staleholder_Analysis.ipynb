{
  "cells": [
    {
      "cell_type": "markdown",
      "metadata": {
        "id": "view-in-github",
        "colab_type": "text"
      },
      "source": [
        "<a href=\"https://colab.research.google.com/github/selinyeltekin/MyRepo/blob/master/03_Task_Staleholder_Analysis.ipynb\" target=\"_parent\"><img src=\"https://colab.research.google.com/assets/colab-badge.svg\" alt=\"Open In Colab\"/></a>"
      ]
    },
    {
      "cell_type": "markdown",
      "id": "c799bc15",
      "metadata": {
        "id": "c799bc15"
      },
      "source": [
        "# Stakeholder Analysis"
      ]
    },
    {
      "cell_type": "markdown",
      "source": [
        "Stakeholder analysis for the course System-Theoretical Principles of Project Management (PM) \n",
        "Platform Oriented Management (POCM)"
      ],
      "metadata": {
        "id": "eT4Psy2l4gZm"
      },
      "id": "eT4Psy2l4gZm"
    },
    {
      "cell_type": "markdown",
      "id": "ccec25ad",
      "metadata": {
        "id": "ccec25ad"
      },
      "source": [
        "## Getting ready\n",
        "\n",
        "### Importing Libraries\n",
        "\n",
        "- Numpy\n",
        "- Matplotlib\n",
        "- Pandas"
      ]
    },
    {
      "cell_type": "code",
      "execution_count": null,
      "id": "4064673c",
      "metadata": {
        "id": "4064673c"
      },
      "outputs": [],
      "source": [
        "import numpy as np\n",
        "import matplotlib.pyplot as plt\n",
        "import pandas as pd"
      ]
    },
    {
      "cell_type": "markdown",
      "id": "d530f8c0",
      "metadata": {
        "id": "d530f8c0"
      },
      "source": [
        "## Importing data\n",
        "\n",
        "### Preparing data"
      ]
    },
    {
      "cell_type": "code",
      "execution_count": null,
      "id": "751b06ec",
      "metadata": {
        "colab": {
          "base_uri": "https://localhost:8080/"
        },
        "id": "751b06ec",
        "outputId": "56bc895b-d5ca-4c89-ef25-1a851084b862"
      },
      "outputs": [
        {
          "output_type": "stream",
          "name": "stdout",
          "text": [
            "1- Size of Residences\n",
            "2-Rental Price\n",
            "3-Anchor Tenant /with Class\n",
            "4-Level of environment - roads - public transport\n",
            "5-neighbourhood buildings - highrise towers? industry?\n",
            "6-Parking facilities\n",
            "7-Services in neighbourhood\n",
            "8-Quality of operation\n",
            "9-Security\n",
            "10-City administration\n",
            "----------------------------------------------------------------------------------------------------\n",
            "     1    2    3    4    5    6    7    8    9    10\n",
            "1   NaN  3.0  2.0  1.0  1.0  2.0  2.0  0.0  1.0  0.0\n",
            "2   0.0  NaN  3.0  2.0  1.0  2.0  2.0  2.0  2.0  1.0\n",
            "3   2.0  3.0  NaN  1.0  2.0  2.0  3.0  2.0  1.0  0.0\n",
            "4   3.0  2.0  1.0  NaN  0.0  2.0  3.0  2.0  2.0  1.0\n",
            "5   1.0  1.0  2.0  2.0  NaN  3.0  2.0  2.0  2.0  3.0\n",
            "6   2.0  1.0  2.0  1.0  2.0  NaN  2.0  3.0  3.0  2.0\n",
            "7   2.0  0.0  3.0  1.0  2.0  2.0  NaN  2.0  2.0  2.0\n",
            "8   3.0  0.0  2.0  3.0  2.0  2.0  3.0  NaN  2.0  1.0\n",
            "9   3.0  1.0  1.0  2.0  1.0  3.0  0.0  1.0  NaN  1.0\n",
            "10  1.0  3.0  0.0  2.0  1.0  2.0  2.0  0.0  3.0  NaN\n"
          ]
        }
      ],
      "source": [
        "data = {\n",
        "  \"1\": [None,3, 2,1,1,2,2,0,1,0],\n",
        "  \"2\": [0,None,3,2,1,2,2,2,2,1],\n",
        "  \"3\": [2,3,None,1,2,2,3,2,1,0],\n",
        "  \"4\" :[3,2,1,None,0,2,3,2,2,1],\n",
        "  \"5\" :[1,1,2,2,None,3,2,2,2,3],\n",
        "  \"6\" :[2,1,2,1,2,None,2,3,3,2],\n",
        "  \"7\" :[2,0,3,1,2,2,None,2,2,2],\n",
        "  \"8\" :[3,0,2,3,2,2,3,None,2,1],\n",
        "  \"9\" :[3,1,1,2,1,3,0,1,None,1],\n",
        "  \"10\" :[1,3,0,2,1,2,2,0,3,None],\n",
        "}\n",
        "criteria =[\n",
        "    \"1- Size of Residences\",\n",
        "    \"2-Rental Price\", \n",
        "    \"3-Anchor Tenant /with Class\", \n",
        "    \"4-Level of environment - roads - public transport\",\n",
        "    \"5-neighbourhood buildings - highrise towers? industry?\",\n",
        "    \"6-Parking facilities\",\n",
        "    \"7-Services in neighbourhood\",\n",
        "    \"8-Quality of operation\",\n",
        "    \"9-Security\",\n",
        "    \"10-City administration\"\n",
        "]\n",
        "#load data into a DataFrame object:\n",
        "df = pd.DataFrame(data)\n",
        "df.index = df.index + 1\n",
        "df = df.transpose()\n",
        "\n",
        "for i in criteria:\n",
        "    print(i)\n",
        "char = \"-\"\n",
        "print(100*char)\n",
        "print(df) "
      ]
    },
    {
      "cell_type": "markdown",
      "id": "4e7c2f0d",
      "metadata": {
        "id": "4e7c2f0d"
      },
      "source": [
        "## Calculating new values"
      ]
    },
    {
      "cell_type": "code",
      "execution_count": null,
      "id": "f153666b",
      "metadata": {
        "colab": {
          "base_uri": "https://localhost:8080/"
        },
        "id": "f153666b",
        "outputId": "28cff6f1-6399-4206-b567-0679dc2aa636"
      },
      "outputs": [
        {
          "output_type": "stream",
          "name": "stdout",
          "text": [
            "       1     2     3     4     5     6     7     8     9    10     AS\n",
            "1    NaN   3.0   2.0   1.0   1.0   2.0   2.0   0.0   1.0   0.0   12.0\n",
            "2    0.0   NaN   3.0   2.0   1.0   2.0   2.0   2.0   2.0   1.0   15.0\n",
            "3    2.0   3.0   NaN   1.0   2.0   2.0   3.0   2.0   1.0   0.0   16.0\n",
            "4    3.0   2.0   1.0   NaN   0.0   2.0   3.0   2.0   2.0   1.0   16.0\n",
            "5    1.0   1.0   2.0   2.0   NaN   3.0   2.0   2.0   2.0   3.0   18.0\n",
            "6    2.0   1.0   2.0   1.0   2.0   NaN   2.0   3.0   3.0   2.0   18.0\n",
            "7    2.0   0.0   3.0   1.0   2.0   2.0   NaN   2.0   2.0   2.0   16.0\n",
            "8    3.0   0.0   2.0   3.0   2.0   2.0   3.0   NaN   2.0   1.0   18.0\n",
            "9    3.0   1.0   1.0   2.0   1.0   3.0   0.0   1.0   NaN   1.0   13.0\n",
            "10   1.0   3.0   0.0   2.0   1.0   2.0   2.0   0.0   3.0   NaN   14.0\n",
            "PS  17.0  14.0  16.0  15.0  12.0  20.0  19.0  14.0  18.0  11.0  156.0\n"
          ]
        }
      ],
      "source": [
        "# Calculate the sum of items in each row\n",
        "row_sums = df.sum(axis=1)\n",
        "\n",
        "# Add the row sums as a new column in the dataframe\n",
        "df['AS'] = row_sums\n",
        "\n",
        "# Calculate the sum of columns\n",
        "column_sums = df.sum(axis=0)\n",
        "\n",
        "# Add the column sums as a new row in the dataframe\n",
        "df.loc['PS'] = column_sums\n",
        "\n",
        "#print df again\n",
        "print(df)"
      ]
    },
    {
      "cell_type": "markdown",
      "id": "74432dae",
      "metadata": {
        "id": "74432dae"
      },
      "source": [
        "## Rearrenging the table"
      ]
    },
    {
      "cell_type": "code",
      "execution_count": null,
      "id": "a6da320d",
      "metadata": {
        "colab": {
          "base_uri": "https://localhost:8080/"
        },
        "id": "a6da320d",
        "outputId": "69b8ea8e-1ffa-442f-f5f0-5eb9d57a662f"
      },
      "outputs": [
        {
          "output_type": "stream",
          "name": "stdout",
          "text": [
            "1      17.0\n",
            "2      14.0\n",
            "3      16.0\n",
            "4      15.0\n",
            "5      12.0\n",
            "6      20.0\n",
            "7      19.0\n",
            "8      14.0\n",
            "9      18.0\n",
            "10     11.0\n",
            "AS    156.0\n",
            "Name: PS, dtype: float64\n",
            "       1     2     3     4     5     6     7     8     9    10     AS     PS\n",
            "1    NaN   3.0   2.0   1.0   1.0   2.0   2.0   0.0   1.0   0.0   12.0   17.0\n",
            "2    0.0   NaN   3.0   2.0   1.0   2.0   2.0   2.0   2.0   1.0   15.0   14.0\n",
            "3    2.0   3.0   NaN   1.0   2.0   2.0   3.0   2.0   1.0   0.0   16.0   16.0\n",
            "4    3.0   2.0   1.0   NaN   0.0   2.0   3.0   2.0   2.0   1.0   16.0   15.0\n",
            "5    1.0   1.0   2.0   2.0   NaN   3.0   2.0   2.0   2.0   3.0   18.0   12.0\n",
            "6    2.0   1.0   2.0   1.0   2.0   NaN   2.0   3.0   3.0   2.0   18.0   20.0\n",
            "7    2.0   0.0   3.0   1.0   2.0   2.0   NaN   2.0   2.0   2.0   16.0   19.0\n",
            "8    3.0   0.0   2.0   3.0   2.0   2.0   3.0   NaN   2.0   1.0   18.0   14.0\n",
            "9    3.0   1.0   1.0   2.0   1.0   3.0   0.0   1.0   NaN   1.0   13.0   18.0\n",
            "10   1.0   3.0   0.0   2.0   1.0   2.0   2.0   0.0   3.0   NaN   14.0   11.0\n",
            "PS  17.0  14.0  16.0  15.0  12.0  20.0  19.0  14.0  18.0  11.0  156.0  156.0\n"
          ]
        }
      ],
      "source": [
        "rows_to_insert = df.loc[\"PS\"]\n",
        "rows_to_insert.tolist()\n",
        "#rows_to_insert.pop(10)\n",
        "#rows_to_insert.pop(\"AS\")\n",
        "\n",
        "df['PS'] = rows_to_insert.values.tolist()\n",
        "print(rows_to_insert)\n",
        "print(df)"
      ]
    },
    {
      "cell_type": "markdown",
      "id": "b5402a6c",
      "metadata": {
        "id": "b5402a6c"
      },
      "source": [
        "## Simplyfing the table for plotting"
      ]
    },
    {
      "cell_type": "code",
      "execution_count": null,
      "id": "3ef710be",
      "metadata": {
        "colab": {
          "base_uri": "https://localhost:8080/"
        },
        "id": "3ef710be",
        "outputId": "7333f7c6-50a5-4569-a270-b25e129d43c4"
      },
      "outputs": [
        {
          "output_type": "stream",
          "name": "stdout",
          "text": [
            "      AS    PS\n",
            "1   12.0  17.0\n",
            "2   15.0  14.0\n",
            "3   16.0  16.0\n",
            "4   16.0  15.0\n",
            "5   18.0  12.0\n",
            "6   18.0  20.0\n",
            "7   16.0  19.0\n",
            "8   18.0  14.0\n",
            "9   13.0  18.0\n",
            "10  14.0  11.0\n"
          ]
        }
      ],
      "source": [
        "simple_df = df[[\"AS\",\"PS\"]]\n",
        "simple_df = simple_df.drop(simple_df.index[-1])\n",
        "print(simple_df)"
      ]
    },
    {
      "cell_type": "markdown",
      "id": "2d0194b4",
      "metadata": {
        "id": "2d0194b4"
      },
      "source": [
        "## Adding Q and P Values"
      ]
    },
    {
      "cell_type": "code",
      "execution_count": null,
      "id": "ce046d71",
      "metadata": {
        "colab": {
          "base_uri": "https://localhost:8080/"
        },
        "id": "ce046d71",
        "outputId": "d0dcea5f-bb6c-4fee-ff92-f8853671bd67"
      },
      "outputs": [
        {
          "output_type": "stream",
          "name": "stdout",
          "text": [
            "      AS    PS  Q Value  P Value\n",
            "1   12.0  17.0     0.71    204.0\n",
            "2   15.0  14.0     1.07    210.0\n",
            "3   16.0  16.0     1.00    256.0\n",
            "4   16.0  15.0     1.07    240.0\n",
            "5   18.0  12.0     1.50    216.0\n",
            "6   18.0  20.0     0.90    360.0\n",
            "7   16.0  19.0     0.84    304.0\n",
            "8   18.0  14.0     1.29    252.0\n",
            "9   13.0  18.0     0.72    234.0\n",
            "10  14.0  11.0     1.27    154.0\n"
          ]
        }
      ],
      "source": [
        "# Calculate the Q Value (AS/PS)\n",
        "simple_df['Q Value'] = simple_df['AS'] / simple_df['PS']\n",
        "simple_df['Q Value'] = simple_df['Q Value'].apply(lambda x: round(x, 2))\n",
        "\n",
        "# Calculate the P Value (AS*PS)\n",
        "simple_df['P Value'] = simple_df['AS'] * simple_df['PS']\n",
        "simple_df['P Value'] = simple_df['P Value'].apply(lambda x: round(x, 2))\n",
        "\n",
        "# Print the updated DataFrame\n",
        "print(simple_df)"
      ]
    },
    {
      "cell_type": "markdown",
      "id": "3c9f5bc2",
      "metadata": {
        "id": "3c9f5bc2"
      },
      "source": [
        "## Scatter Plot"
      ]
    },
    {
      "cell_type": "code",
      "execution_count": null,
      "id": "9bca0028",
      "metadata": {
        "colab": {
          "base_uri": "https://localhost:8080/",
          "height": 472
        },
        "id": "9bca0028",
        "outputId": "8878442c-ea61-4e05-bd37-bb58a0567192"
      },
      "outputs": [
        {
          "output_type": "display_data",
          "data": {
            "text/plain": [
              "<Figure size 640x480 with 1 Axes>"
            ],
            "image/png": "[encoded data removed]"
          },
          "metadata": {}
        }
      ],
      "source": [
        "x = simple_df['PS']\n",
        "y = simple_df['AS']\n",
        "\n",
        "plt.scatter(x, y)\n",
        "# Label the points with their respective indexes\n",
        "for i, txt in enumerate(simple_df.index):\n",
        "    plt.annotate(txt, (x[i], y[i]))\n",
        "    \n",
        "# changing axis names and graphic name    \n",
        "plt.xlabel('Passive Sum')\n",
        "plt.ylabel('Active Sum')\n",
        "plt.title('Stakeholder Analysis')\n",
        "\n",
        "\n",
        "# Add a legend\n",
        "plt.legend(['Data Points'])\n",
        "plt.show()"
      ]
    },
    {
      "cell_type": "markdown",
      "id": "4b953839",
      "metadata": {
        "id": "4b953839"
      },
      "source": [
        "## Adding Reference Lines"
      ]
    },
    {
      "cell_type": "code",
      "execution_count": null,
      "id": "79c9d5e0",
      "metadata": {
        "scrolled": false,
        "colab": {
          "base_uri": "https://localhost:8080/",
          "height": 723
        },
        "id": "79c9d5e0",
        "outputId": "79ab6851-a4bc-41c0-aeef-4c04f22a8115"
      },
      "outputs": [
        {
          "output_type": "stream",
          "name": "stdout",
          "text": [
            "--------------------------------------------------\n",
            "Stakeholder Analysis\n",
            "--------------------------------------------------\n",
            "Criteria\n",
            "1- Size of Residences\n",
            "2-Rental Price\n",
            "3-Anchor Tenant /with Class\n",
            "4-Level of environment - roads - public transport\n",
            "5-neighbourhood buildings - highrise towers? industry?\n",
            "6-Parking facilities\n",
            "7-Services in neighbourhood\n",
            "8-Quality of operation\n",
            "9-Security\n",
            "10-City administration\n"
          ]
        },
        {
          "output_type": "display_data",
          "data": {
            "text/plain": [
              "<Figure size 640x480 with 1 Axes>"
            ],
            "image/png": "[encoded data removed]"
          },
          "metadata": {}
        }
      ],
      "source": [
        "## The Scatter Plot\n",
        "x = simple_df['PS']\n",
        "y = simple_df['AS']\n",
        "\n",
        "plt.scatter(x, y)\n",
        "\n",
        "# Label the points with their respective indexes\n",
        "for i, txt in enumerate(simple_df.index):\n",
        "    plt.annotate(txt, (x[i], y[i]))\n",
        "\n",
        "plt.xlabel('Passive Sum')\n",
        "plt.ylabel('Active Sum')\n",
        "plt.title('Stakeholder Analysis')\n",
        "\n",
        "## \n",
        "\n",
        "## Reference Lines ##\n",
        "# Add a line representing tan(30)\n",
        "tan_30 = np.tan(np.radians(30))  # Calculate tangent of 30 degrees\n",
        "x_line = np.linspace(0.0000001, max(x), 100)\n",
        "tan_line_30 = tan_30 * x_line\n",
        "plt.plot(x_line, tan_line_30, 'b-', label='Q tan(30)')\n",
        "\n",
        "# Add a line representing tan(60)\n",
        "tan_60 = np.tan(np.radians(60))  # Calculate tangent of 60 degrees\n",
        "tan_line_60 = tan_60 * x_line\n",
        "plt.plot(x_line, tan_line_60, 'b-', label='Q tan(60)')\n",
        "\n",
        "\n",
        "# Set the y-axis limit to start from zero\n",
        "# or not?\n",
        "plt.ylim(0)\n",
        "plt.xlim(0)\n",
        "\n",
        "## Calculating h curves ##\n",
        "# \n",
        "# Calculate Pmax\n",
        "Pmax = max(simple_df['PS'])\n",
        "\n",
        "# Add a line representing AS = (1/3)^2 * Pmax/PS\n",
        "AS_1 = np.where(x_line != 0, ((1/3)**2) * (Pmax / x_line), np.nan)\n",
        "plt.plot(x_line, AS_1, 'r-', label='AS = (1/3)^2 * Pmax/PS')\n",
        "\n",
        "# Add a line representing AS = (2/3)^2 * Pmax/PS\n",
        "AS_2 = np.where(x_line != 0, ((2/3)**2) * (Pmax / x_line), np.nan)\n",
        "plt.plot(x_line, AS_2, 'g-', label='AS = (2/3)^2 * Pmax/PS')\n",
        "\n",
        "# Set the legend\n",
        "plt.legend()\n",
        "\n",
        "# Print title\n",
        "char = \"-\"\n",
        "print(char*50)\n",
        "print(\"Stakeholder Analysis\")\n",
        "print(char*50)\n",
        "\n",
        "# Print title 2\n",
        "print(\"Criteria\")\n",
        "\n",
        "# Set the legend at the bottom\n",
        "for i in criteria:\n",
        "  print(i)\n",
        "# show the plot\n",
        "plt.show()"
      ]
    }
  ],
  "metadata": {
    "kernelspec": {
      "display_name": "Python 3 (ipykernel)",
      "language": "python",
      "name": "python3"
    },
    "language_info": {
      "codemirror_mode": {
        "name": "ipython",
        "version": 3
      },
      "file_extension": ".py",
      "mimetype": "text/x-python",
      "name": "python",
      "nbconvert_exporter": "python",
      "pygments_lexer": "ipython3",
      "version": "3.10.9"
    },
    "colab": {
      "provenance": [],
      "toc_visible": true,
      "include_colab_link": true
    }
  },
  "nbformat": 4,
  "nbformat_minor": 5
}