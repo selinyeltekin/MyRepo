{
  "nbformat": 4,
  "nbformat_minor": 0,
  "metadata": {
    "colab": {
      "name": "Lab05_Task 1_",
      "provenance": [],
      "authorship_tag": "ABX9TyMuE+RT4/iszhYdle/LiNJr",
      "include_colab_link": true
    },
    "kernelspec": {
      "name": "python3",
      "display_name": "Python 3"
    }
  },
  "cells": [
    {
      "cell_type": "markdown",
      "metadata": {
        "id": "view-in-github",
        "colab_type": "text"
      },
      "source": [
        "<a href=\"https://colab.research.google.com/github/selinyeltekin/MyRepo/blob/master/Lab05_Task_1_.ipynb\" target=\"_parent\"><img src=\"https://colab.research.google.com/assets/colab-badge.svg\" alt=\"Open In Colab\"/></a>"
      ]
    },
    {
      "cell_type": "code",
      "metadata": {
        "id": "ymiSLLBcABBk",
        "colab_type": "code",
        "colab": {
          "base_uri": "https://localhost:8080/",
          "height": 239
        },
        "outputId": "8344d889-29d4-4632-fe6c-48339426bd10"
      },
      "source": [
        "#Newton Method\n",
        "\n",
        "import math\n",
        "import numpy as np\n",
        "import matplotlib.pyplot as plt\n",
        "\n",
        "\n",
        "# Defining Function\n",
        "def f(x):\n",
        "  return x*math.sin(4*x)\n",
        "\n",
        "# Defining derivative of function\n",
        "def g(x):\n",
        "  return math.sin(4*x) + 4*x*math.cos(4*x)\n",
        "\n",
        "# Implementing Newton Method\n",
        "def newton(x0,e, ex, N):\n",
        "  print('\\n\\n*** NEWTON METHOD IMPLEMENTATION ***')\n",
        "  step = 1\n",
        "  flag = 1\n",
        "  condition = True\n",
        "  while condition:\n",
        "    if g(x0) == 0.0:\n",
        "      print('Divide by zero error!')\n",
        "      break\n",
        "    x1 = x0 - f(x0)/g(x0)\n",
        "    xhelp=x1-x0\n",
        "    print('Iteration-%d, x1 = %0.6f and f(x1) = %0.6f' % (step, x1, f(x1)))\n",
        "    x0 = x1\n",
        "    step = step + 1\n",
        "    if step > N:\n",
        "      flag = 0\n",
        "      break\n",
        "\n",
        "    condition1 = abs(f(x1))>e\n",
        "    \n",
        "  if flag==1:\n",
        "    print('\\nRequired root is: %0.8f' % x1)\n",
        "  else:\n",
        "    print('\\nNot Convergent.')\n",
        "  return x1  \n",
        "\n",
        "startingGuess=[]\n",
        "root=[]\n",
        "numberIt=[]\n",
        "\n",
        "e = 0.000001\n",
        "# Converting N to integer\n",
        "N = 1000\n",
        "x0=np.arange(0.1,5,0.05)\n",
        "for i in x0 :\n",
        "  startingGuess.append(i)\n",
        "  x1 , step = newton(i,e,N)\n",
        "  root.append(x1)\n",
        "  numberIt.append(step)"
      ],
      "execution_count": 2,
      "outputs": [
        {
          "output_type": "error",
          "ename": "TypeError",
          "evalue": "ignored",
          "traceback": [
            "\u001b[0;31m---------------------------------------------------------------------------\u001b[0m",
            "\u001b[0;31mTypeError\u001b[0m                                 Traceback (most recent call last)",
            "\u001b[0;32m<ipython-input-2-9f42e265d1d5>\u001b[0m in \u001b[0;36m<module>\u001b[0;34m()\u001b[0m\n\u001b[1;32m     50\u001b[0m \u001b[0;32mfor\u001b[0m \u001b[0mi\u001b[0m \u001b[0;32min\u001b[0m \u001b[0mx0\u001b[0m \u001b[0;34m:\u001b[0m\u001b[0;34m\u001b[0m\u001b[0;34m\u001b[0m\u001b[0m\n\u001b[1;32m     51\u001b[0m   \u001b[0mstartingGuess\u001b[0m\u001b[0;34m.\u001b[0m\u001b[0mappend\u001b[0m\u001b[0;34m(\u001b[0m\u001b[0mi\u001b[0m\u001b[0;34m)\u001b[0m\u001b[0;34m\u001b[0m\u001b[0;34m\u001b[0m\u001b[0m\n\u001b[0;32m---> 52\u001b[0;31m   \u001b[0mx1\u001b[0m \u001b[0;34m,\u001b[0m \u001b[0mstep\u001b[0m \u001b[0;34m=\u001b[0m \u001b[0mnewton\u001b[0m\u001b[0;34m(\u001b[0m\u001b[0mi\u001b[0m\u001b[0;34m,\u001b[0m\u001b[0me\u001b[0m\u001b[0;34m,\u001b[0m\u001b[0mN\u001b[0m\u001b[0;34m)\u001b[0m\u001b[0;34m\u001b[0m\u001b[0;34m\u001b[0m\u001b[0m\n\u001b[0m\u001b[1;32m     53\u001b[0m   \u001b[0mroot\u001b[0m\u001b[0;34m.\u001b[0m\u001b[0mappend\u001b[0m\u001b[0;34m(\u001b[0m\u001b[0mx1\u001b[0m\u001b[0;34m)\u001b[0m\u001b[0;34m\u001b[0m\u001b[0;34m\u001b[0m\u001b[0m\n\u001b[1;32m     54\u001b[0m   \u001b[0mnumberIt\u001b[0m\u001b[0;34m.\u001b[0m\u001b[0mappend\u001b[0m\u001b[0;34m(\u001b[0m\u001b[0mstep\u001b[0m\u001b[0;34m)\u001b[0m\u001b[0;34m\u001b[0m\u001b[0;34m\u001b[0m\u001b[0m\n",
            "\u001b[0;31mTypeError\u001b[0m: newton() missing 1 required positional argument: 'N'"
          ]
        }
      ]
    }
  ]
}