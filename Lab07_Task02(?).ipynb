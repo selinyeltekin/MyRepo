{
  "nbformat": 4,
  "nbformat_minor": 0,
  "metadata": {
    "colab": {
      "name": "Lab07_Task02(?).ipynb",
      "provenance": [],
      "authorship_tag": "ABX9TyNP8jkakg5OKezlCAEGlk4/",
      "include_colab_link": true
    },
    "kernelspec": {
      "name": "python3",
      "display_name": "Python 3"
    }
  },
  "cells": [
    {
      "cell_type": "markdown",
      "metadata": {
        "id": "view-in-github",
        "colab_type": "text"
      },
      "source": [
        "<a href=\"https://colab.research.google.com/github/selinyeltekin/MyRepo/blob/master/Lab07_Task02(%3F).ipynb\" target=\"_parent\"><img src=\"https://colab.research.google.com/assets/colab-badge.svg\" alt=\"Open In Colab\"/></a>"
      ]
    },
    {
      "cell_type": "code",
      "metadata": {
        "id": "Vpz3Ym1pXQ18",
        "colab_type": "code",
        "colab": {
          "base_uri": "https://localhost:8080/",
          "height": 300
        },
        "outputId": "cb25418b-49ef-42b0-900f-5c8e4d86de38"
      },
      "source": [
        "# Lagrange Polynomials in Python\n",
        "import numpy as np\n",
        "\n",
        "def  lagrange(x,i,xm):\n",
        "  \"\"\"\n",
        "  Evaluates  the i-th  Lagrange  polynomial  at point x \n",
        "  based on grid  data xm\n",
        "  \"\"\"\n",
        "  n=len(xm)-1\n",
        "  y=1.\n",
        "  for j in  range(n+1):\n",
        "    if i!=j:\n",
        "      y*=(x-xm[j])/(xm[i]-xm[j])\n",
        "  return y\n",
        "\n",
        "\n",
        "def  interpolation(x,xm ,ym):\n",
        "  n=len(xm)-1\n",
        "  lagrpoly=np.array([lagrange(x,i,xm) for i in range(n+1)])\n",
        "  y = np.dot(ym ,lagrpoly)\n",
        "  return y\n",
        "\n",
        "xm = np.array([1,2,3,4,5,6])\n",
        "ym = np.array([-3,0,-1,2,1,4])\n",
        "xplot = np.linspace(0.9,6.1,100)\n",
        "yplot = interpolation(xplot, xm, ym)\n",
        "\n",
        "print('X dataponts: ',xm)\n",
        "print('Y dataponts: ',ym)\n",
        "\n",
        "def polyplot(xm, ym, xplot, yplot):\n",
        "  # Import pyplot as plt\n",
        "  import matplotlib.pyplot as plt\n",
        "\n",
        "  #plot the function\n",
        "\n",
        "  plt.plot(xplot, yplot, lw=2, label='interpolation')\n",
        "\n",
        "  plt.plot(xm, ym, 'o', label='points')\n",
        "\n",
        "  plt.legend()\n",
        "  plt.show()\n",
        "\n",
        "polyplot(xm, ym, xplot, yplot)"
      ],
      "execution_count": 7,
      "outputs": [
        {
          "output_type": "stream",
          "text": [
            "X dataponts:  [1 2 3 4 5 6]\n",
            "Y dataponts:  [-3  0 -1  2  1  4]\n"
          ],
          "name": "stdout"
        },
        {
          "output_type": "display_data",
          "data": {
            "image/png": "[encoded data removed]",
            "text/plain": [
              "<Figure size 432x288 with 1 Axes>"
            ]
          },
          "metadata": {
            "tags": [],
            "needs_background": "light"
          }
        }
      ]
    },
    {
      "cell_type": "code",
      "metadata": {
        "id": "8rE_A-8vheEl",
        "colab_type": "code",
        "colab": {
          "base_uri": "https://localhost:8080/",
          "height": 283
        },
        "outputId": "baf0fb1d-8e4b-43cb-ddbf-df9955c66e40"
      },
      "source": [
        "def poly_newton_coefficient(x, y):\n",
        "    \"\"\"\n",
        "    x: list or np array contanining x data points\n",
        "    y: list or np array contanining y data points\n",
        "    \"\"\"\n",
        "\n",
        "    m = len(x)\n",
        "\n",
        "    x = np.copy(x)\n",
        "    a = np.copy(y).astype(float)\n",
        "\n",
        "    for k in range(1, m):\n",
        "        for i in range(m-1, k-1, -1):\n",
        "            a[i] = float(a[i]-a[i-1])/float(x[i]-x[i-k])\n",
        "            \n",
        "    return a\n",
        "\n",
        "def newton_interpolation(x, x_data, y_data):\n",
        "    \"\"\"\n",
        "    x: evaluation point(s)\n",
        "    x_data: data points at x\n",
        "    y_data: data points at y\n",
        "     \"\"\"\n",
        "    a = poly_newton_coefficient(x_data, y_data)\n",
        "    n = len(x_data) - 1  # Degree of polynomial\n",
        "    p = a[n]\n",
        "    print(\"array a = \",a)\n",
        "\n",
        "    for k in range(1, n + 1):\n",
        "        p = a[n - k] + (x - x_data[n - k])*p\n",
        "\n",
        "    return p\n",
        "\n",
        "\n",
        "\n",
        "#xm = np.array([-1,0,1,2])\n",
        "#ym = np.array([5,1,1,11])\n",
        "#xplot = np.linspace(-1.1,2.1,100)\n",
        "#xplot = np.array([-1,0,1,2])\n",
        "\n",
        "xm = np.array([1,2,3,4,5,6])\n",
        "ym = np.array([-3,0,-1,2,1,4])\n",
        "xplot = np.linspace(0.9,6.1,100)\n",
        "yplot = newton_interpolation(xplot, xm, ym)\n",
        "polyplot(xm, ym, xplot, yplot)"
      ],
      "execution_count": 8,
      "outputs": [
        {
          "output_type": "stream",
          "text": [
            "array a =  [-3.          3.         -2.          1.33333333 -0.66666667  0.26666667]\n"
          ],
          "name": "stdout"
        },
        {
          "output_type": "display_data",
          "data": {
            "image/png": "[encoded data removed]",
            "text/plain": [
              "<Figure size 432x288 with 1 Axes>"
            ]
          },
          "metadata": {
            "tags": [],
            "needs_background": "light"
          }
        }
      ]
    }
  ]
}