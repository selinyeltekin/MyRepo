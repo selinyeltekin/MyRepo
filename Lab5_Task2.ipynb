{
  "nbformat": 4,
  "nbformat_minor": 0,
  "metadata": {
    "colab": {
      "name": "Lab5_Task2",
      "provenance": [],
      "authorship_tag": "ABX9TyPkfZAZBexAezPkpOVdcPtM",
      "include_colab_link": true
    },
    "kernelspec": {
      "name": "python3",
      "display_name": "Python 3"
    }
  },
  "cells": [
    {
      "cell_type": "markdown",
      "metadata": {
        "id": "view-in-github",
        "colab_type": "text"
      },
      "source": [
        "<a href=\"https://colab.research.google.com/github/selinyeltekin/MyRepo/blob/master/Lab5_Task2.ipynb\" target=\"_parent\"><img src=\"https://colab.research.google.com/assets/colab-badge.svg\" alt=\"Open In Colab\"/></a>"
      ]
    },
    {
      "cell_type": "code",
      "metadata": {
        "id": "aS--lR3GRmbZ",
        "colab_type": "code",
        "colab": {}
      },
      "source": [
        "We have this set of equations : \n",
        "x**2+y**2+z**2-2=0\n",
        "x**2+y**2-1=0\n",
        "x**2-y=0\n",
        "\n",
        "The Jacobian for this set : \n",
        "J(x,y,z)=(2x   2y   2z)\n",
        "         (2x   2y   0 )\n",
        "         (2x   y  0 )"
      ],
      "execution_count": 0,
      "outputs": []
    }
  ]
}