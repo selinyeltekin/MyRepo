{
  "nbformat": 4,
  "nbformat_minor": 0,
  "metadata": {
    "colab": {
      "name": "Lab5_task03",
      "provenance": [],
      "authorship_tag": "ABX9TyN+x6h+rR6z/9q9Fxj8QwCW",
      "include_colab_link": true
    },
    "kernelspec": {
      "name": "python3",
      "display_name": "Python 3"
    }
  },
  "cells": [
    {
      "cell_type": "markdown",
      "metadata": {
        "id": "view-in-github",
        "colab_type": "text"
      },
      "source": [
        "<a href=\"https://colab.research.google.com/github/selinyeltekin/MyRepo/blob/master/Lab5_task03.ipynb\" target=\"_parent\"><img src=\"https://colab.research.google.com/assets/colab-badge.svg\" alt=\"Open In Colab\"/></a>"
      ]
    },
    {
      "cell_type": "code",
      "metadata": {
        "id": "Gp-D_e86Wvzh",
        "colab_type": "code",
        "colab": {
          "base_uri": "https://localhost:8080/",
          "height": 124
        },
        "outputId": "8c2cc8e2-227c-430b-b5fd-a4faa09401bc"
      },
      "source": [
        "import numpy as np\n",
        "\n",
        "def jacobian_example(xyz):\n",
        "  x,y,z =xyz\n",
        "  return [[3*x, 2*y, z],\n",
        "          [2*x, 3*y, 1],\n",
        "          [1,   -1,  0]]\n",
        "\n",
        "def function_example(xyz):\n",
        "  x,y,z =xyz\n",
        "  return [x**3 + y**2 + z**2, x**2 + y**3 +z, x-y]\n",
        "\n",
        "# iterative Newton's method\n",
        "def iterative_newton(fun, x_init, jacobian):\n",
        "    max_iter = 50\n",
        "    epsilon = 1e-8\n",
        "\n",
        "    x_last = x_init\n",
        "\n",
        "    for k in range(max_iter):\n",
        "        # Solve J(xn)*( xn+1 - xn ) = -F(xn):\n",
        "        J = np.array(jacobian(x_last))\n",
        "        F = np.array(fun(x_last))\n",
        "\n",
        "        # inverted Jacobian\n",
        "        Jinv = np.linalg.inv(J)\n",
        "        #  x(n+1) = x(n) − J^(−1)(x(n))*F(x(n)).\n",
        "        #  np.dot - array/vector multiplication\n",
        "        diff = np.dot(Jinv,F)\n",
        "        x_last = x_last - diff\n",
        "        \n",
        "        print(x_last)        \n",
        "\n",
        "        # Stop condition:\n",
        "        if np.linalg.norm(diff) < epsilon:\n",
        "            print('convergence!, nre iter:', k )\n",
        "            break\n",
        "\n",
        "    else: # only if the for loop end 'naturally'\n",
        "        print('not converged')\n",
        "\n",
        "    return x_last\n",
        "\n",
        "x_sol = iterative_newton(function_example, [1.0,2.0,1.0], jacobian_example)\n",
        "print('solution example:', x_sol )\n",
        "print( function_example(x_sol) )\n"
      ],
      "execution_count": 10,
      "outputs": [
        {
          "output_type": "stream",
          "text": [
            "[-1. -1. 13.]\n",
            "[-1.00000000e+00 -1.00000000e+00  1.77635684e-15]\n",
            "[-1.00000000e+00 -1.00000000e+00  2.39808173e-14]\n",
            "convergence!, nre iter: 2\n",
            "solution example: [-1.00000000e+00 -1.00000000e+00  2.39808173e-14]\n",
            "[6.661338147751514e-15, 3.064215547965436e-14, 0.0]\n"
          ],
          "name": "stdout"
        }
      ]
    }
  ]
}